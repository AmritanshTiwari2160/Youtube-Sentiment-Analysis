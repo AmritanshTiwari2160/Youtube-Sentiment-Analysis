{
  "cells": [
    {
      "cell_type": "markdown",
      "metadata": {
        "id": "view-in-github",
        "colab_type": "text"
      },
      "source": [
        "<a href=\"https://colab.research.google.com/github/UnicodeAnshi/Projects/blob/main/Youtube_comment_Sentiment_analysiis.ipynb\" target=\"_parent\"><img src=\"https://colab.research.google.com/assets/colab-badge.svg\" alt=\"Open In Colab\"/></a>"
      ]
    },
    {
      "cell_type": "markdown",
      "metadata": {
        "id": "QoOxSuvhTSZk"
      },
      "source": [
        "# installing new packaages\n",
        "\n",
        "\n",
        "\n",
        "\n"
      ]
    },
    {
      "cell_type": "code",
      "execution_count": null,
      "metadata": {
        "id": "gBV0EUYhTfPk"
      },
      "outputs": [],
      "source": [
        "!pip install googletrans\n",
        "!pip install emoji\n",
        "!pip install langdetect"
      ]
    },
    {
      "cell_type": "markdown",
      "metadata": {
        "id": "4OGgnC4ZbDjW"
      },
      "source": [
        "##Importing necessary libraries and setting API service\n",
        "\n"
      ]
    },
    {
      "cell_type": "code",
      "execution_count": null,
      "metadata": {
        "id": "pU0NFlCZU79F"
      },
      "outputs": [],
      "source": [
        "import csv\n",
        "import googleapiclient.discovery\n",
        "from googletrans import Translator\n",
        "import emoji\n",
        "import pandas as pd\n",
        "import string\n",
        "import re\n",
        "from langdetect import detect, DetectorFactory\n",
        "import nltk\n",
        "from nltk.corpus import stopwords\n",
        "from textblob import TextBlob\n",
        "\n",
        "nltk.download('stopwords')\n",
        "stop_words = set(stopwords.words('english'))"
      ]
    },
    {
      "cell_type": "markdown",
      "metadata": {
        "id": "RUaPZ5tmln3N"
      },
      "source": [
        "SETTING UP API SERVICE"
      ]
    },
    {
      "cell_type": "code",
      "execution_count": null,
      "metadata": {
        "id": "g4rfzhPbluoG"
      },
      "outputs": [],
      "source": [
        "api_service_name = \"youtube\"\n",
        "api_version = \"v3\"\n",
        "DEVELOPER_KEY = \"\"\n",
        "youtube = googleapiclient.discovery.build(\n",
        "    api_service_name, api_version, developerKey=DEVELOPER_KEY)"
      ]
    },
    {
      "cell_type": "markdown",
      "metadata": {
        "id": "4IDX-mRgTNQr"
      },
      "source": [
        "# Extracting comments"
      ]
    },
    {
      "cell_type": "code",
      "execution_count": null,
      "metadata": {
        "id": "hi_Ljur7TEum"
      },
      "outputs": [],
      "source": [
        "def get_comments(video_id, max_comments):\n",
        "    comments = []\n",
        "    response = youtube.commentThreads().list(\n",
        "        part=\"snippet\",\n",
        "        videoId='OzY2r2JXsDM',\n",
        "        maxResults=100  # API allows a maximum of 100 results per request\n",
        "    ).execute()\n",
        "\n",
        "    while response and len(comments) < max_comments:\n",
        "        for item in response[\"items\"]:\n",
        "            comment = item[\"snippet\"][\"topLevelComment\"][\"snippet\"][\"textDisplay\"]\n",
        "            comments.append(comment)\n",
        "            if len(comments) >= max_comments:\n",
        "                break\n",
        "\n",
        "        # Check for nextPageToken\n",
        "        if 'nextPageToken' in response:\n",
        "            response = youtube.commentThreads().list(\n",
        "                part=\"snippet\",\n",
        "                videoId=video_id,\n",
        "                maxResults=100,\n",
        "                pageToken=response['nextPageToken']\n",
        "            ).execute()\n",
        "        else:\n",
        "            break\n",
        "\n",
        "    return comments\n",
        "\n",
        "# Extract comments\n",
        "video_id = \"OzY2r2JXsDM\"\n",
        "max_comments = 1000000  # Desired number of comments\n",
        "#fetching comments\n",
        "comments = get_comments(video_id, max_comments)"
      ]
    },
    {
      "cell_type": "markdown",
      "metadata": {
        "id": "CvtDu-P9h0O2"
      },
      "source": [
        "REMOVING PUNCTUATION MARKS"
      ]
    },
    {
      "cell_type": "code",
      "execution_count": null,
      "metadata": {
        "id": "gGpyfhKKwLhX"
      },
      "outputs": [],
      "source": [
        "def remove_punctuation(comment):\n",
        "    translator = str.maketrans('', '', string.punctuation)\n",
        "    return comment.translate(translator)"
      ]
    },
    {
      "cell_type": "markdown",
      "metadata": {
        "id": "spSWD5X8h4Ae"
      },
      "source": [
        "REMOVING LINKS"
      ]
    },
    {
      "cell_type": "code",
      "execution_count": null,
      "metadata": {
        "id": "mASdfszjwJHh"
      },
      "outputs": [],
      "source": [
        "def contains_link(comment):\n",
        "    url_pattern = re.compile(r'https?://\\S+|www\\.\\S+')\n",
        "    return bool(url_pattern.search(comment))"
      ]
    },
    {
      "cell_type": "markdown",
      "metadata": {
        "id": "idNGvzg6h7iv"
      },
      "source": [
        "CONVERTING EMOJI TO TEXT"
      ]
    },
    {
      "cell_type": "code",
      "execution_count": null,
      "metadata": {
        "id": "7O6zsQKmz-cR"
      },
      "outputs": [],
      "source": [
        "def convert_emojis_to_text(text):\n",
        "    return emoji.demojize(text)"
      ]
    },
    {
      "cell_type": "markdown",
      "metadata": {
        "id": "WgjAd37ZiGsG"
      },
      "source": [
        "CHECKING IF COMMENT IS IN ENGLISH OR NOT"
      ]
    },
    {
      "cell_type": "code",
      "execution_count": null,
      "metadata": {
        "id": "vbz_bgyj1w6W"
      },
      "outputs": [],
      "source": [
        "def is_english(comment):\n",
        "    try:\n",
        "        return detect(comment) == 'en'\n",
        "    except:\n",
        "        return False"
      ]
    },
    {
      "cell_type": "markdown",
      "metadata": {
        "id": "FPvaw6IAiPJZ"
      },
      "source": [
        "PREPROCESSING"
      ]
    },
    {
      "cell_type": "code",
      "execution_count": null,
      "metadata": {
        "id": "2Y-EssYvw-gw"
      },
      "outputs": [],
      "source": [
        "translated_comments = []\n",
        "for comment in comments:\n",
        "    if not contains_link(comment):\n",
        "        cleaned_comment = remove_punctuation(comment)\n",
        "        emoji_converted_comment = convert_emojis_to_text(cleaned_comment)\n",
        "        leaned_comment = re.sub(r'\\d+', '', cleaned_comment)\n",
        "        if is_english(emoji_converted_comment):\n",
        "            translated_comments.append(emoji_converted_comment)\n"
      ]
    },
    {
      "cell_type": "code",
      "execution_count": null,
      "metadata": {
        "id": "sB68abTdw-Kx",
        "colab": {
          "base_uri": "https://localhost:8080/"
        },
        "outputId": "8ad1e4fc-3187-4ea3-f312-8377010496f3"
      },
      "outputs": [
        {
          "output_type": "stream",
          "name": "stdout",
          "text": [
            "Number of comments extracted: 14485\n"
          ]
        }
      ],
      "source": [
        "print(f\"Number of comments extracted: {len(translated_comments)}\")\n",
        "#converting to file\n",
        "csv_file=\"youtube_comments.csv\"\n",
        "\n",
        "with open(csv_file,mode='w',newline='',encoding='utf-8')as file:\n",
        "    writer= csv.writer(file)\n",
        "    for comment in translated_comments:\n",
        "      writer.writerow([comment])\n",
        "df=pd.read_csv(\"youtube_comments.csv\")"
      ]
    },
    {
      "cell_type": "markdown",
      "metadata": {
        "id": "NMfc1kizi7vD"
      },
      "source": [
        "converting all uppercase letters to lower ones"
      ]
    },
    {
      "cell_type": "code",
      "execution_count": null,
      "metadata": {
        "id": "8t_QED5b_iWP"
      },
      "outputs": [],
      "source": [
        "df=df.applymap(lambda x: x.lower()if isinstance(x,str)else x)\n",
        "df.to_csv(\"youtube_comments.csv\",index=False)"
      ]
    },
    {
      "cell_type": "markdown",
      "metadata": {
        "id": "gnQMhg29mFdI"
      },
      "source": [
        "READING THE FILE"
      ]
    },
    {
      "cell_type": "code",
      "execution_count": null,
      "metadata": {
        "id": "yM-svNDcmLdN",
        "colab": {
          "base_uri": "https://localhost:8080/"
        },
        "outputId": "44bf7880-6a2d-44ec-b554-cae878a6874e"
      },
      "outputs": [
        {
          "output_type": "stream",
          "name": "stdout",
          "text": [
            "Index(['comments'], dtype='object')\n"
          ]
        }
      ],
      "source": [
        "df = pd.read_csv('youtube_comments.csv')\n",
        "df.rename(columns={\n",
        "    df.columns[0]:'comments'},inplace=True)\n",
        "print(df.columns)\n",
        "df = df.replace({'_': ' ', ':': ' '}, regex=True)\n",
        "# Save the cleaned DataFrame back to a CSV file if needed\n",
        "df.to_csv('youtube_comments.csv', index=False)"
      ]
    },
    {
      "cell_type": "markdown",
      "metadata": {
        "id": "RtoZgl-Vqsix"
      },
      "source": [
        "SENTIMENT ANALYSIS USING TEXT BLOB"
      ]
    },
    {
      "cell_type": "code",
      "execution_count": null,
      "metadata": {
        "id": "eEm8IOs3VH6I",
        "colab": {
          "base_uri": "https://localhost:8080/"
        },
        "outputId": "d0f88250-1577-4a91-e93d-edfafe04ed83"
      },
      "outputs": [
        {
          "output_type": "execute_result",
          "data": {
            "text/plain": [
              "sentiment\n",
              "positive    5991\n",
              "neutral     4596\n",
              "negative    3928\n",
              "Name: count, dtype: int64"
            ]
          },
          "metadata": {},
          "execution_count": 26
        }
      ],
      "source": [
        "df=pd.read_csv('youtube_comments.csv')\n",
        "\n",
        "#defining a function for sentiment analysis\n",
        "def getSentiment(text):\n",
        "  blob=TextBlob(str(text))\n",
        "  if(blob.sentiment.polarity<0.0):\n",
        "    return 'negative'\n",
        "  elif(blob.sentiment.polarity>0.0):\n",
        "    return 'positive'\n",
        "  else:\n",
        "    return 'neutral'\n",
        "\n",
        "#applying sentiment analysis to comments column\n",
        "df['sentiment']=df['comments'].apply(getSentiment)\n",
        "df.to_csv('youtube_comments.csv')\n",
        "df['sentiment'].value_counts(0)"
      ]
    },
    {
      "cell_type": "markdown",
      "metadata": {
        "id": "EiNyswzUqvXc"
      },
      "source": [
        "Encoding target variable"
      ]
    },
    {
      "cell_type": "code",
      "execution_count": null,
      "metadata": {
        "id": "IAefUS1uVNCo",
        "colab": {
          "base_uri": "https://localhost:8080/"
        },
        "outputId": "d29a3ab4-dd74-4e6e-e59c-384a0f8b0e7b"
      },
      "outputs": [
        {
          "output_type": "execute_result",
          "data": {
            "text/plain": [
              "sentiment\n",
              "2    5991\n",
              "1    4596\n",
              "0    3928\n",
              "Name: count, dtype: int64"
            ]
          },
          "metadata": {},
          "execution_count": 27
        }
      ],
      "source": [
        "from sklearn import preprocessing\n",
        "object =preprocessing.LabelEncoder()\n",
        "df['sentiment']=object.fit_transform(df['sentiment'])\n",
        "df['sentiment'].value_counts(0)"
      ]
    },
    {
      "cell_type": "markdown",
      "metadata": {
        "id": "OjdEs-MLq1eP"
      },
      "source": [
        "DECISION TREE"
      ]
    },
    {
      "cell_type": "code",
      "execution_count": null,
      "metadata": {
        "id": "ZC2Bq_TTqFlO",
        "colab": {
          "base_uri": "https://localhost:8080/"
        },
        "outputId": "c7497c22-c9ec-4d32-a1a6-0a85454ece94"
      },
      "outputs": [
        {
          "output_type": "stream",
          "name": "stdout",
          "text": [
            "accuracy:  0.8046848088184636\n"
          ]
        }
      ],
      "source": [
        "from sklearn.model_selection import train_test_split\n",
        "from sklearn.tree import DecisionTreeClassifier\n",
        "from sklearn.metrics import accuracy_score\n",
        "from sklearn.feature_extraction.text import TfidfVectorizer\n",
        "\n",
        "# Split the data into features (X) and labels (y)\n",
        "df.dropna(subset=['comments'], inplace=True)\n",
        "X = df['comments']\n",
        "y = df['sentiment']\n",
        "\n",
        "X_train, X_test, y_train, y_test = train_test_split(X, y, test_size=0.2, random_state=42)\n",
        "\n",
        "# Vectorize text data\n",
        "vectorizer = TfidfVectorizer()\n",
        "X_train_tfidf = vectorizer.fit_transform(X_train)\n",
        "X_test_tfidf = vectorizer.transform(X_test)\n",
        "\n",
        "#vectorise tree data\n",
        "clf=DecisionTreeClassifier()\n",
        "clf.fit(X_train_tfidf,y_train)\n",
        "y_pred=clf.predict(X_test_tfidf)\n",
        "\n",
        "#checking accuracy\n",
        "accuracy=accuracy_score(y_test,y_pred)\n",
        "accud=accuracy\n",
        "print(\"accuracy: \", accuracy)"
      ]
    },
    {
      "cell_type": "markdown",
      "metadata": {
        "id": "xY2Z7fPiqOVU"
      },
      "source": [
        "RANDOM FOREST"
      ]
    },
    {
      "cell_type": "code",
      "execution_count": null,
      "metadata": {
        "id": "xqYwym74qOoZ",
        "colab": {
          "base_uri": "https://localhost:8080/"
        },
        "outputId": "13c4ddec-91cf-40e1-f6dc-78ea11fedc21"
      },
      "outputs": [
        {
          "output_type": "stream",
          "name": "stdout",
          "text": [
            "Accuracy: 0.8101963486048915\n"
          ]
        }
      ],
      "source": [
        "from sklearn.feature_extraction.text import TfidfVectorizer\n",
        "from sklearn.ensemble import RandomForestClassifier\n",
        "from sklearn.model_selection import train_test_split\n",
        "from sklearn.metrics import accuracy_score\n",
        "\n",
        "# Load the dataset\n",
        "data = pd.read_csv('youtube_comments.csv')\n",
        "data.dropna(subset=['comments'], inplace=True)\n",
        "\n",
        "# Split the dataset into features (comments) and target variable (label)\n",
        "X = data['comments']  # Features\n",
        "y = data['sentiment']    # Target variable\n",
        "\n",
        "# Convert text data into numerical format using TF-IDF vectorizer\n",
        "vectorizer = TfidfVectorizer()  # You can adjust max_features as needed\n",
        "X = vectorizer.fit_transform(X)\n",
        "\n",
        "# Split the data into training and testing sets\n",
        "X_train, X_test, y_train, y_test = train_test_split(X, y, test_size=0.2, random_state=42)\n",
        "\n",
        "# Create a Random Forest classifier\n",
        "rf_classifier = RandomForestClassifier(n_estimators=100, random_state=42)\n",
        "\n",
        "# Train the model\n",
        "rf_classifier.fit(X_train, y_train)\n",
        "\n",
        "# Make predictions on the testing data\n",
        "y_pred = rf_classifier.predict(X_test)\n",
        "\n",
        "# Evaluate the model\n",
        "accuracy = accuracy_score(y_test, y_pred)\n",
        "accurf=accuracy\n",
        "print(\"Accuracy:\", accuracy)"
      ]
    },
    {
      "cell_type": "markdown",
      "metadata": {
        "id": "fJV61K7urBU3"
      },
      "source": [
        "RNN"
      ]
    },
    {
      "cell_type": "code",
      "execution_count": null,
      "metadata": {
        "id": "2eLjUyrFqRw5",
        "colab": {
          "base_uri": "https://localhost:8080/"
        },
        "outputId": "71f6bc39-111e-47c5-c025-3bbaa07bf64e"
      },
      "outputs": [
        {
          "output_type": "stream",
          "name": "stdout",
          "text": [
            "Epoch 1/5\n",
            "91/91 [==============================] - 119s 1s/step - loss: 0.8799 - accuracy: 0.5950 - val_loss: 0.5790 - val_accuracy: 0.7589\n",
            "Epoch 2/5\n",
            "91/91 [==============================] - 103s 1s/step - loss: 0.3617 - accuracy: 0.8745 - val_loss: 0.3657 - val_accuracy: 0.8732\n",
            "Epoch 3/5\n",
            "91/91 [==============================] - 122s 1s/step - loss: 0.1629 - accuracy: 0.9538 - val_loss: 0.3172 - val_accuracy: 0.8925\n",
            "Epoch 4/5\n",
            "91/91 [==============================] - 74s 804ms/step - loss: 0.1014 - accuracy: 0.9730 - val_loss: 0.3249 - val_accuracy: 0.9004\n",
            "Epoch 5/5\n",
            "91/91 [==============================] - 72s 791ms/step - loss: 0.0727 - accuracy: 0.9812 - val_loss: 0.3848 - val_accuracy: 0.8822\n",
            "91/91 [==============================] - 5s 56ms/step - loss: 0.3848 - accuracy: 0.8822\n",
            "Test Accuracy: 0.8821908235549927\n"
          ]
        }
      ],
      "source": [
        "import tensorflow as tf\n",
        "from sklearn.model_selection import train_test_split\n",
        "from sklearn.preprocessing import LabelEncoder\n",
        "from tensorflow.keras.preprocessing.text import Tokenizer\n",
        "from tensorflow.keras.preprocessing.sequence import pad_sequences\n",
        "from tensorflow.keras.models import Sequential\n",
        "from tensorflow.keras.layers import Embedding, LSTM, Dense\n",
        "from tensorflow.keras.utils import to_categorical\n",
        "\n",
        "df=pd.read_csv(\"youtube_comments.csv\")\n",
        "df.dropna( inplace=True)\n",
        "df['comments'] = df['comments'].astype(str)\n",
        "\n",
        "#tokenise comments\n",
        "tokenizer = Tokenizer()\n",
        "tokenizer.fit_on_texts(df['comments'])\n",
        "X = tokenizer.texts_to_sequences(df['comments'])\n",
        "\n",
        "#pad ssequences\n",
        "max_len = 200\n",
        "X = pad_sequences(X, maxlen=max_len)\n",
        "\n",
        "#encoding labels\n",
        "label_encoder = LabelEncoder()\n",
        "y = label_encoder.fit_transform(df['sentiment'])\n",
        "\n",
        "y = to_categorical(y, num_classes=3)\n",
        "\n",
        "X_train, X_test, y_train, y_test = train_test_split(X, y, test_size=0.2, random_state=42)\n",
        "\n",
        "model = Sequential()\n",
        "model.add(Embedding(input_dim=len(tokenizer.word_index) + 1, output_dim=128))\n",
        "model.add(LSTM(units=64, dropout=0.2, recurrent_dropout=0.2))\n",
        "model.add(Dense(units=3, activation='softmax'))\n",
        "\n",
        "#compile model\n",
        "model.compile(loss='categorical_crossentropy', optimizer='adam', metrics=['accuracy'])\n",
        "\n",
        "# Train the model\n",
        "model.fit(X_train, y_train, batch_size=128, epochs=5, validation_data=(X_test, y_test))\n",
        "\n",
        "# Evaluate the model\n",
        "loss, accuracy = model.evaluate(X_test, y_test)\n",
        "accur=accuracy\n",
        "print(\"Test Accuracy:\", accuracy)"
      ]
    },
    {
      "cell_type": "markdown",
      "source": [
        "GRADIENT BOOSTING"
      ],
      "metadata": {
        "id": "BRuiYQ4v6c95"
      }
    },
    {
      "cell_type": "code",
      "source": [
        "from sklearn.ensemble import GradientBoostingClassifier\n",
        "from sklearn.feature_extraction.text import TfidfVectorizer\n",
        "from sklearn.model_selection import train_test_split\n",
        "from sklearn.metrics import accuracy_score, classification_report\n",
        "\n",
        "df=pd.read_csv(\"youtube_comments.csv\")\n",
        "df.dropna( inplace=True)\n",
        "df['comments'] = df['comments'].astype(str)\n",
        "\n",
        "vectorizer = TfidfVectorizer()\n",
        "X = vectorizer.fit_transform(df['comments'])\n",
        "y = df['sentiment']\n",
        "X_train, X_test, y_train, y_test = train_test_split(X, y, test_size=0.2, random_state=42)\n",
        "model = GradientBoostingClassifier()\n",
        "model.fit(X_train, y_train)\n",
        "y_pred = model.predict(X_test)\n",
        "accug = accuracy_score(y_test, y_pred)\n",
        "print(\"accuracy score :\",accug)"
      ],
      "metadata": {
        "colab": {
          "base_uri": "https://localhost:8080/"
        },
        "id": "zE-Iv7Rv6jQX",
        "outputId": "330054f7-1cc1-4433-8e4e-0e083f6c0e65"
      },
      "execution_count": null,
      "outputs": [
        {
          "output_type": "stream",
          "name": "stdout",
          "text": [
            "accuracy score : 0.8070961074750258\n"
          ]
        }
      ]
    },
    {
      "cell_type": "code",
      "execution_count": null,
      "metadata": {
        "id": "aJ2vdMjuqVhc",
        "colab": {
          "base_uri": "https://localhost:8080/",
          "height": 357
        },
        "outputId": "6e306ac2-2c87-4219-b652-aa2e6ddad868"
      },
      "outputs": [
        {
          "output_type": "display_data",
          "data": {
            "text/plain": [
              "<Figure size 1000x500 with 1 Axes>"
            ],
            "image/png": "[encoded data removed]"
          },
          "metadata": {}
        }
      ],
      "source": [
        "import matplotlib.pyplot as plt\n",
        "\n",
        "# Assuming you have the accuracies in a dictionary\n",
        "accuracies = {\n",
        "    'Decision Tree': accud,\n",
        "    'Random Forest': accurf,\n",
        "    'RNN': accur,\n",
        "    'Gradient_boost':accug\n",
        "}\n",
        "\n",
        "models = list(accuracies.keys())\n",
        "values = list(accuracies.values())\n",
        "\n",
        "plt.figure(figsize=(10, 5))\n",
        "plt.plot(models, values, marker='o', linestyle='-', color='b')\n",
        "plt.xlabel('Models')\n",
        "plt.ylabel('Accuracy')\n",
        "plt.title('Model Accuracies')\n",
        "plt.grid(True)\n",
        "plt.show()\n"
      ]
    }
  ],
  "metadata": {
    "colab": {
      "provenance": [],
      "authorship_tag": "ABX9TyMsiPMo9L8bytmnQy6BePrE",
      "include_colab_link": true
    },
    "kernelspec": {
      "display_name": "Python 3",
      "name": "python3"
    },
    "language_info": {
      "name": "python"
    }
  },
  "nbformat": 4,
  "nbformat_minor": 0
}